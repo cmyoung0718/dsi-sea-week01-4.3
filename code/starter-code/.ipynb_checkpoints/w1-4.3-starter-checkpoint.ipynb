{
 "cells": [
  {
   "cell_type": "code",
   "execution_count": 1,
   "metadata": {
    "collapsed": false
   },
   "outputs": [],
   "source": [
    "import numpy as np \n",
    "import math \n",
    "\n",
    "# create an array\n",
    "data_set = np.array([1, 2, 3, 4, 5, 6, 7, 8, 9, 10])\n"
   ]
  },
  {
   "cell_type": "code",
   "execution_count": 27,
   "metadata": {
    "collapsed": false
   },
   "outputs": [
    {
     "name": "stdout",
     "output_type": "stream",
     "text": [
      "8.25\n",
      "8.25\n",
      "8.25\n"
     ]
    }
   ],
   "source": [
    "# Write a function that computes the variance\n",
    "# Compare your function results with numpy results\n",
    "def vari(rray):\n",
    "    summ = 0\n",
    "    variance = 0\n",
    "    for i in rray:\n",
    "        summ += float(i)\n",
    "    avg = summ / len(rray)\n",
    "    for i in rray:\n",
    "        variance += ((i - avg)**2)\n",
    "    variance /= len(rray)\n",
    "    return variance\n",
    "\n",
    "print vari(data_set)\n",
    "\n",
    "var = lambda array: sum([(x - np.mean(array))**2 for x in array])/float(len(array))\n",
    "print var(data_set)\n",
    "\n",
    "print np.var(data_set)"
   ]
  },
  {
   "cell_type": "code",
   "execution_count": 28,
   "metadata": {
    "collapsed": false
   },
   "outputs": [
    {
     "name": "stdout",
     "output_type": "stream",
     "text": [
      "2.87228132327\n",
      "2.87228132327\n",
      "2.87228132327\n"
     ]
    }
   ],
   "source": [
    "# Write a function that computes the standard deviation and \n",
    "# compare your function results with numpy equivalents. \n",
    "\n",
    "def std_dev(rray):\n",
    "    standard_deviation = vari(rray)**0.5\n",
    "    return standard_deviation\n",
    "\n",
    "print std_dev(data_set)\n",
    "print var(data_set)**0.5\n",
    "print np.std(data_set)"
   ]
  },
  {
   "cell_type": "code",
   "execution_count": null,
   "metadata": {
    "collapsed": true
   },
   "outputs": [],
   "source": []
  }
 ],
 "metadata": {
  "anaconda-cloud": {},
  "kernelspec": {
   "display_name": "Python [Root]",
   "language": "python",
   "name": "Python [Root]"
  },
  "language_info": {
   "codemirror_mode": {
    "name": "ipython",
    "version": 2
   },
   "file_extension": ".py",
   "mimetype": "text/x-python",
   "name": "python",
   "nbconvert_exporter": "python",
   "pygments_lexer": "ipython2",
   "version": "2.7.12"
  }
 },
 "nbformat": 4,
 "nbformat_minor": 0
}
